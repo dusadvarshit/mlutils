{
 "cells": [
  {
   "cell_type": "markdown",
   "id": "f63db5a7",
   "metadata": {},
   "source": [
    "1. AutoML built on top of sklearn and optuna\n",
    "2. Abstract and include mlflow as part of it. Mlflow should be storing directly in AWS S3\n",
    "3. [Opt] Add code to include memory profiling of the code\n",
    "4.  "
   ]
  },
  {
   "cell_type": "markdown",
   "id": "95026641",
   "metadata": {},
   "source": []
  },
  {
   "cell_type": "code",
   "execution_count": 2,
   "id": "55ae7b63",
   "metadata": {},
   "outputs": [
    {
     "name": "stderr",
     "output_type": "stream",
     "text": [
      "2025/06/07 13:24:24 WARNING mlflow.models.model: Model logged without a signature and input example. Please set `input_example` parameter when logging the model to auto infer the model signature.\n"
     ]
    },
    {
     "name": "stdout",
     "output_type": "stream",
     "text": [
      "Logged to MLflow with accuracy: 1.0\n",
      "🏃 View run big-cow-401 at: http://localhost:5000/#/experiments/1/runs/826b09da3dc64f38a6eddfe36e4b9f8c\n",
      "🧪 View experiment at: http://localhost:5000/#/experiments/1\n"
     ]
    }
   ],
   "source": [
    "import mlflow\n",
    "import mlflow.sklearn\n",
    "from sklearn import datasets\n",
    "from sklearn.model_selection import train_test_split\n",
    "from sklearn.linear_model import LogisticRegression\n",
    "from sklearn.metrics import accuracy_score\n",
    "\n",
    "# Set up MLflow tracking URI\n",
    "mlflow.set_tracking_uri(\"http://localhost:5000\")\n",
    "\n",
    "# Load dataset\n",
    "iris = datasets.load_iris()\n",
    "X = iris.data\n",
    "y = iris.target\n",
    "\n",
    "# Split data\n",
    "X_train, X_test, y_train, y_test = train_test_split(X, y, test_size=0.2, random_state=42)\n",
    "\n",
    "# Set experiment\n",
    "mlflow.set_experiment(\"iris_test\")\n",
    "\n",
    "# Train and log model\n",
    "with mlflow.start_run():\n",
    "    model = LogisticRegression(max_iter=200)\n",
    "    model.fit(X_train, y_train)\n",
    "    \n",
    "    # Predict and evaluate\n",
    "    predictions = model.predict(X_test)\n",
    "    acc = accuracy_score(y_test, predictions)\n",
    "\n",
    "    # Log model and metrics\n",
    "    mlflow.log_metric(\"accuracy\", acc)\n",
    "    mlflow.sklearn.log_model(model, \"logistic_regression_model\")\n",
    "\n",
    "    print(f\"Logged to MLflow with accuracy: {acc}\")\n"
   ]
  },
  {
   "cell_type": "code",
   "execution_count": null,
   "id": "4aca3850",
   "metadata": {},
   "outputs": [],
   "source": []
  },
  {
   "cell_type": "code",
   "execution_count": 3,
   "id": "481642fa",
   "metadata": {},
   "outputs": [
    {
     "name": "stdout",
     "output_type": "stream",
     "text": [
      "Current working directory: c:\\Users\\dusad\\Documents\\Projects\\agnei_consulting\\mlutils\\Notebooks\n"
     ]
    }
   ],
   "source": [
    "from pathlib import Path\n",
    "\n",
    "current_path = Path.cwd()\n",
    "print(f\"Current working directory: {current_path}\")"
   ]
  },
  {
   "cell_type": "code",
   "execution_count": null,
   "id": "d3c73069",
   "metadata": {},
   "outputs": [
    {
     "name": "stdout",
     "output_type": "stream",
     "text": [
      "Git repository root: c:\\Users\\dusad\\Documents\\Projects\\agnei_consulting\\mlutils\n"
     ]
    }
   ],
   "source": []
  },
  {
   "cell_type": "markdown",
   "id": "67ebf7dd",
   "metadata": {},
   "source": [
    "### Attempt downloading with Kaggle"
   ]
  },
  {
   "cell_type": "code",
   "execution_count": 1,
   "id": "e0209947",
   "metadata": {},
   "outputs": [
    {
     "name": "stderr",
     "output_type": "stream",
     "text": [
      "c:\\Users\\dusad\\miniconda3\\envs\\agnei\\lib\\site-packages\\tqdm\\auto.py:21: TqdmWarning: IProgress not found. Please update jupyter and ipywidgets. See https://ipywidgets.readthedocs.io/en/stable/user_install.html\n",
      "  from .autonotebook import tqdm as notebook_tqdm\n"
     ]
    },
    {
     "name": "stdout",
     "output_type": "stream",
     "text": [
      "Downloading from https://www.kaggle.com/api/v1/datasets/download/blastchar/telco-customer-churn?dataset_version_number=1...\n"
     ]
    },
    {
     "name": "stderr",
     "output_type": "stream",
     "text": [
      "100%|██████████| 172k/172k [00:00<00:00, 193kB/s]"
     ]
    },
    {
     "name": "stdout",
     "output_type": "stream",
     "text": [
      "Extracting files...\n"
     ]
    },
    {
     "name": "stderr",
     "output_type": "stream",
     "text": [
      "\n"
     ]
    },
    {
     "name": "stdout",
     "output_type": "stream",
     "text": [
      "Path to dataset files: C:\\Users\\dusad\\.cache\\kagglehub\\datasets\\blastchar\\telco-customer-churn\\versions\\1\n"
     ]
    },
    {
     "ename": "ImportError",
     "evalue": "cannot import name 'fetch_kaggle_dataset' from 'mlutils.utils.kaggle' (C:\\Users\\dusad\\Documents\\Projects\\agnei_consulting\\mlutils\\src\\mlutils\\utils\\kaggle.py)",
     "output_type": "error",
     "traceback": [
      "\u001b[1;31m---------------------------------------------------------------------------\u001b[0m",
      "\u001b[1;31mImportError\u001b[0m                               Traceback (most recent call last)",
      "Cell \u001b[1;32mIn[1], line 1\u001b[0m\n\u001b[1;32m----> 1\u001b[0m \u001b[38;5;28;01mfrom\u001b[39;00m\u001b[38;5;250m \u001b[39m\u001b[38;5;21;01mmlutils\u001b[39;00m\u001b[38;5;21;01m.\u001b[39;00m\u001b[38;5;21;01mutils\u001b[39;00m\u001b[38;5;21;01m.\u001b[39;00m\u001b[38;5;21;01mkaggle\u001b[39;00m\u001b[38;5;250m \u001b[39m\u001b[38;5;28;01mimport\u001b[39;00m fetch_kaggle_dataset\n\u001b[0;32m      2\u001b[0m \u001b[38;5;28;01mfrom\u001b[39;00m\u001b[38;5;250m \u001b[39m\u001b[38;5;21;01mmlutils\u001b[39;00m\u001b[38;5;21;01m.\u001b[39;00m\u001b[38;5;21;01mutils\u001b[39;00m\u001b[38;5;21;01m.\u001b[39;00m\u001b[38;5;21;01mio\u001b[39;00m\u001b[38;5;250m \u001b[39m\u001b[38;5;28;01mimport\u001b[39;00m find_git_root\n\u001b[0;32m      3\u001b[0m _dir \u001b[38;5;241m=\u001b[39m find_git_root() \u001b[38;5;241m/\u001b[39m \u001b[38;5;124m\"\u001b[39m\u001b[38;5;124mdata\u001b[39m\u001b[38;5;124m\"\u001b[39m\n",
      "\u001b[1;31mImportError\u001b[0m: cannot import name 'fetch_kaggle_dataset' from 'mlutils.utils.kaggle' (C:\\Users\\dusad\\Documents\\Projects\\agnei_consulting\\mlutils\\src\\mlutils\\utils\\kaggle.py)"
     ]
    }
   ],
   "source": [
    "from mlutils.utils.kaggle import fetch_kaggle_dataset\n",
    "from mlutils.utils.io import find_git_root\n",
    "_dir = find_git_root() / \"data\"\n",
    "# fetch_kaggle_dataset()"
   ]
  },
  {
   "cell_type": "code",
   "execution_count": null,
   "id": "86ba9083",
   "metadata": {},
   "outputs": [],
   "source": []
  }
 ],
 "metadata": {
  "kernelspec": {
   "display_name": "agnei",
   "language": "python",
   "name": "python3"
  },
  "language_info": {
   "codemirror_mode": {
    "name": "ipython",
    "version": 3
   },
   "file_extension": ".py",
   "mimetype": "text/x-python",
   "name": "python",
   "nbconvert_exporter": "python",
   "pygments_lexer": "ipython3",
   "version": "3.10.18"
  }
 },
 "nbformat": 4,
 "nbformat_minor": 5
}
