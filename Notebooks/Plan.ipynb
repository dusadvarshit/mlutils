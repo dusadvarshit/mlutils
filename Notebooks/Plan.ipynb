{
 "cells": [
  {
   "cell_type": "markdown",
   "id": "f63db5a7",
   "metadata": {},
   "source": [
    "1. AutoML built on top of sklearn and optuna [Clean-up]\n",
    "2. Abstract and include mlflow as part of it. Mlflow should be storing directly in AWS S3 [Done]\n",
    "3. [Opt] Add code to include memory profiling of the code\n",
    "4. Model serving\n",
    "5. Enhance eval module\n",
    "6. Generate a class to handle all storage functionality per user\n",
    "7. Generalize current train module to adapt both classification and regression tasks. Also in classification can handle imbalanced classification as well.\n",
    "\n",
    "Testing"
   ]
  },
  {
   "cell_type": "markdown",
   "id": "95026641",
   "metadata": {},
   "source": []
  },
  {
   "cell_type": "code",
   "execution_count": 1,
   "id": "55ae7b63",
   "metadata": {},
   "outputs": [
    {
     "ename": "KeyboardInterrupt",
     "evalue": "",
     "output_type": "error",
     "traceback": [
      "\u001b[1;31m---------------------------------------------------------------------------\u001b[0m",
      "\u001b[1;31mKeyboardInterrupt\u001b[0m                         Traceback (most recent call last)",
      "Cell \u001b[1;32mIn[1], line 1\u001b[0m\n\u001b[1;32m----> 1\u001b[0m \u001b[38;5;28;01mimport\u001b[39;00m\u001b[38;5;250m \u001b[39m\u001b[38;5;21;01mmlflow\u001b[39;00m\n\u001b[0;32m      2\u001b[0m \u001b[38;5;28;01mimport\u001b[39;00m\u001b[38;5;250m \u001b[39m\u001b[38;5;21;01mmlflow\u001b[39;00m\u001b[38;5;21;01m.\u001b[39;00m\u001b[38;5;21;01msklearn\u001b[39;00m\n\u001b[0;32m      3\u001b[0m \u001b[38;5;28;01mfrom\u001b[39;00m\u001b[38;5;250m \u001b[39m\u001b[38;5;21;01msklearn\u001b[39;00m\u001b[38;5;250m \u001b[39m\u001b[38;5;28;01mimport\u001b[39;00m datasets\n",
      "File \u001b[1;32mc:\\Users\\dusad\\miniconda3\\envs\\agnei\\lib\\site-packages\\mlflow\\__init__.py:43\u001b[0m\n\u001b[0;32m     40\u001b[0m \u001b[38;5;28;01mwith\u001b[39;00m contextlib\u001b[38;5;241m.\u001b[39msuppress(\u001b[38;5;167;01mException\u001b[39;00m):\n\u001b[0;32m     41\u001b[0m     mlflow\u001b[38;5;241m.\u001b[39mmismatch\u001b[38;5;241m.\u001b[39m_check_version_mismatch()\n\u001b[1;32m---> 43\u001b[0m \u001b[38;5;28;01mfrom\u001b[39;00m\u001b[38;5;250m \u001b[39m\u001b[38;5;21;01mmlflow\u001b[39;00m\u001b[38;5;250m \u001b[39m\u001b[38;5;28;01mimport\u001b[39;00m (\n\u001b[0;32m     44\u001b[0m     artifacts,  \u001b[38;5;66;03m# noqa: F401\u001b[39;00m\n\u001b[0;32m     45\u001b[0m     client,  \u001b[38;5;66;03m# noqa: F401\u001b[39;00m\n\u001b[0;32m     46\u001b[0m     config,  \u001b[38;5;66;03m# noqa: F401\u001b[39;00m\n\u001b[0;32m     47\u001b[0m     data,  \u001b[38;5;66;03m# noqa: F401\u001b[39;00m\n\u001b[0;32m     48\u001b[0m     exceptions,  \u001b[38;5;66;03m# noqa: F401\u001b[39;00m\n\u001b[0;32m     49\u001b[0m     models,  \u001b[38;5;66;03m# noqa: F401\u001b[39;00m\n\u001b[0;32m     50\u001b[0m     projects,  \u001b[38;5;66;03m# noqa: F401\u001b[39;00m\n\u001b[0;32m     51\u001b[0m     tracing,  \u001b[38;5;66;03m# noqa: F401\u001b[39;00m\n\u001b[0;32m     52\u001b[0m     tracking,  \u001b[38;5;66;03m# noqa: F401\u001b[39;00m\n\u001b[0;32m     53\u001b[0m )\n\u001b[0;32m     54\u001b[0m \u001b[38;5;28;01mfrom\u001b[39;00m\u001b[38;5;250m \u001b[39m\u001b[38;5;21;01mmlflow\u001b[39;00m\u001b[38;5;21;01m.\u001b[39;00m\u001b[38;5;21;01menvironment_variables\u001b[39;00m\u001b[38;5;250m \u001b[39m\u001b[38;5;28;01mimport\u001b[39;00m MLFLOW_CONFIGURE_LOGGING\n\u001b[0;32m     55\u001b[0m \u001b[38;5;28;01mfrom\u001b[39;00m\u001b[38;5;250m \u001b[39m\u001b[38;5;21;01mmlflow\u001b[39;00m\u001b[38;5;21;01m.\u001b[39;00m\u001b[38;5;21;01mutils\u001b[39;00m\u001b[38;5;21;01m.\u001b[39;00m\u001b[38;5;21;01mlazy_load\u001b[39;00m\u001b[38;5;250m \u001b[39m\u001b[38;5;28;01mimport\u001b[39;00m LazyLoader\n",
      "File \u001b[1;32mc:\\Users\\dusad\\miniconda3\\envs\\agnei\\lib\\site-packages\\mlflow\\data\\__init__.py:5\u001b[0m\n\u001b[0;32m      2\u001b[0m \u001b[38;5;28;01mfrom\u001b[39;00m\u001b[38;5;250m \u001b[39m\u001b[38;5;21;01mcontextlib\u001b[39;00m\u001b[38;5;250m \u001b[39m\u001b[38;5;28;01mimport\u001b[39;00m suppress\n\u001b[0;32m      3\u001b[0m \u001b[38;5;28;01mfrom\u001b[39;00m\u001b[38;5;250m \u001b[39m\u001b[38;5;21;01mtyping\u001b[39;00m\u001b[38;5;250m \u001b[39m\u001b[38;5;28;01mimport\u001b[39;00m Union\n\u001b[1;32m----> 5\u001b[0m \u001b[38;5;28;01mfrom\u001b[39;00m\u001b[38;5;250m \u001b[39m\u001b[38;5;21;01mmlflow\u001b[39;00m\u001b[38;5;21;01m.\u001b[39;00m\u001b[38;5;21;01mdata\u001b[39;00m\u001b[38;5;250m \u001b[39m\u001b[38;5;28;01mimport\u001b[39;00m dataset_registry\n\u001b[0;32m      6\u001b[0m \u001b[38;5;28;01mfrom\u001b[39;00m\u001b[38;5;250m \u001b[39m\u001b[38;5;21;01mmlflow\u001b[39;00m\u001b[38;5;21;01m.\u001b[39;00m\u001b[38;5;21;01mdata\u001b[39;00m\u001b[38;5;250m \u001b[39m\u001b[38;5;28;01mimport\u001b[39;00m sources \u001b[38;5;28;01mas\u001b[39;00m mlflow_data_sources\n\u001b[0;32m      7\u001b[0m \u001b[38;5;28;01mfrom\u001b[39;00m\u001b[38;5;250m \u001b[39m\u001b[38;5;21;01mmlflow\u001b[39;00m\u001b[38;5;21;01m.\u001b[39;00m\u001b[38;5;21;01mdata\u001b[39;00m\u001b[38;5;21;01m.\u001b[39;00m\u001b[38;5;21;01mdataset\u001b[39;00m\u001b[38;5;250m \u001b[39m\u001b[38;5;28;01mimport\u001b[39;00m Dataset\n",
      "File \u001b[1;32mc:\\Users\\dusad\\miniconda3\\envs\\agnei\\lib\\site-packages\\mlflow\\data\\dataset_registry.py:137\u001b[0m\n\u001b[0;32m    135\u001b[0m \u001b[38;5;66;03m# use contextlib suppress to ignore import errors\u001b[39;00m\n\u001b[0;32m    136\u001b[0m \u001b[38;5;28;01mwith\u001b[39;00m suppress(\u001b[38;5;167;01mImportError\u001b[39;00m):\n\u001b[1;32m--> 137\u001b[0m     \u001b[38;5;28;01mfrom\u001b[39;00m\u001b[38;5;250m \u001b[39m\u001b[38;5;21;01mmlflow\u001b[39;00m\u001b[38;5;21;01m.\u001b[39;00m\u001b[38;5;21;01mdata\u001b[39;00m\u001b[38;5;21;01m.\u001b[39;00m\u001b[38;5;21;01mpandas_dataset\u001b[39;00m\u001b[38;5;250m \u001b[39m\u001b[38;5;28;01mimport\u001b[39;00m from_pandas\n\u001b[0;32m    139\u001b[0m     _dataset_registry\u001b[38;5;241m.\u001b[39mregister_constructor(from_pandas)\n\u001b[0;32m    140\u001b[0m \u001b[38;5;28;01mwith\u001b[39;00m suppress(\u001b[38;5;167;01mImportError\u001b[39;00m):\n",
      "File \u001b[1;32mc:\\Users\\dusad\\miniconda3\\envs\\agnei\\lib\\site-packages\\mlflow\\data\\pandas_dataset.py:6\u001b[0m\n\u001b[0;32m      3\u001b[0m \u001b[38;5;28;01mfrom\u001b[39;00m\u001b[38;5;250m \u001b[39m\u001b[38;5;21;01mfunctools\u001b[39;00m\u001b[38;5;250m \u001b[39m\u001b[38;5;28;01mimport\u001b[39;00m cached_property\n\u001b[0;32m      4\u001b[0m \u001b[38;5;28;01mfrom\u001b[39;00m\u001b[38;5;250m \u001b[39m\u001b[38;5;21;01mtyping\u001b[39;00m\u001b[38;5;250m \u001b[39m\u001b[38;5;28;01mimport\u001b[39;00m Any, Optional, Union\n\u001b[1;32m----> 6\u001b[0m \u001b[38;5;28;01mimport\u001b[39;00m\u001b[38;5;250m \u001b[39m\u001b[38;5;21;01mpandas\u001b[39;00m\u001b[38;5;250m \u001b[39m\u001b[38;5;28;01mas\u001b[39;00m\u001b[38;5;250m \u001b[39m\u001b[38;5;21;01mpd\u001b[39;00m\n\u001b[0;32m      8\u001b[0m \u001b[38;5;28;01mfrom\u001b[39;00m\u001b[38;5;250m \u001b[39m\u001b[38;5;21;01mmlflow\u001b[39;00m\u001b[38;5;21;01m.\u001b[39;00m\u001b[38;5;21;01mdata\u001b[39;00m\u001b[38;5;21;01m.\u001b[39;00m\u001b[38;5;21;01mdataset\u001b[39;00m\u001b[38;5;250m \u001b[39m\u001b[38;5;28;01mimport\u001b[39;00m Dataset\n\u001b[0;32m      9\u001b[0m \u001b[38;5;28;01mfrom\u001b[39;00m\u001b[38;5;250m \u001b[39m\u001b[38;5;21;01mmlflow\u001b[39;00m\u001b[38;5;21;01m.\u001b[39;00m\u001b[38;5;21;01mdata\u001b[39;00m\u001b[38;5;21;01m.\u001b[39;00m\u001b[38;5;21;01mdataset_source\u001b[39;00m\u001b[38;5;250m \u001b[39m\u001b[38;5;28;01mimport\u001b[39;00m DatasetSource\n",
      "File \u001b[1;32mc:\\Users\\dusad\\miniconda3\\envs\\agnei\\lib\\site-packages\\pandas\\__init__.py:61\u001b[0m\n\u001b[0;32m     58\u001b[0m \u001b[38;5;66;03m# let init-time option registration happen\u001b[39;00m\n\u001b[0;32m     59\u001b[0m \u001b[38;5;28;01mimport\u001b[39;00m\u001b[38;5;250m \u001b[39m\u001b[38;5;21;01mpandas\u001b[39;00m\u001b[38;5;21;01m.\u001b[39;00m\u001b[38;5;21;01mcore\u001b[39;00m\u001b[38;5;21;01m.\u001b[39;00m\u001b[38;5;21;01mconfig_init\u001b[39;00m  \u001b[38;5;66;03m# pyright: ignore[reportUnusedImport] # noqa: F401\u001b[39;00m\n\u001b[1;32m---> 61\u001b[0m \u001b[38;5;28;01mfrom\u001b[39;00m\u001b[38;5;250m \u001b[39m\u001b[38;5;21;01mpandas\u001b[39;00m\u001b[38;5;21;01m.\u001b[39;00m\u001b[38;5;21;01mcore\u001b[39;00m\u001b[38;5;21;01m.\u001b[39;00m\u001b[38;5;21;01mapi\u001b[39;00m\u001b[38;5;250m \u001b[39m\u001b[38;5;28;01mimport\u001b[39;00m (\n\u001b[0;32m     62\u001b[0m     \u001b[38;5;66;03m# dtype\u001b[39;00m\n\u001b[0;32m     63\u001b[0m     ArrowDtype,\n\u001b[0;32m     64\u001b[0m     Int8Dtype,\n\u001b[0;32m     65\u001b[0m     Int16Dtype,\n\u001b[0;32m     66\u001b[0m     Int32Dtype,\n\u001b[0;32m     67\u001b[0m     Int64Dtype,\n\u001b[0;32m     68\u001b[0m     UInt8Dtype,\n\u001b[0;32m     69\u001b[0m     UInt16Dtype,\n\u001b[0;32m     70\u001b[0m     UInt32Dtype,\n\u001b[0;32m     71\u001b[0m     UInt64Dtype,\n\u001b[0;32m     72\u001b[0m     Float32Dtype,\n\u001b[0;32m     73\u001b[0m     Float64Dtype,\n\u001b[0;32m     74\u001b[0m     CategoricalDtype,\n\u001b[0;32m     75\u001b[0m     PeriodDtype,\n\u001b[0;32m     76\u001b[0m     IntervalDtype,\n\u001b[0;32m     77\u001b[0m     DatetimeTZDtype,\n\u001b[0;32m     78\u001b[0m     StringDtype,\n\u001b[0;32m     79\u001b[0m     BooleanDtype,\n\u001b[0;32m     80\u001b[0m     \u001b[38;5;66;03m# missing\u001b[39;00m\n\u001b[0;32m     81\u001b[0m     NA,\n\u001b[0;32m     82\u001b[0m     isna,\n\u001b[0;32m     83\u001b[0m     isnull,\n\u001b[0;32m     84\u001b[0m     notna,\n\u001b[0;32m     85\u001b[0m     notnull,\n\u001b[0;32m     86\u001b[0m     \u001b[38;5;66;03m# indexes\u001b[39;00m\n\u001b[0;32m     87\u001b[0m     Index,\n\u001b[0;32m     88\u001b[0m     CategoricalIndex,\n\u001b[0;32m     89\u001b[0m     RangeIndex,\n\u001b[0;32m     90\u001b[0m     MultiIndex,\n\u001b[0;32m     91\u001b[0m     IntervalIndex,\n\u001b[0;32m     92\u001b[0m     TimedeltaIndex,\n\u001b[0;32m     93\u001b[0m     DatetimeIndex,\n\u001b[0;32m     94\u001b[0m     PeriodIndex,\n\u001b[0;32m     95\u001b[0m     IndexSlice,\n\u001b[0;32m     96\u001b[0m     \u001b[38;5;66;03m# tseries\u001b[39;00m\n\u001b[0;32m     97\u001b[0m     NaT,\n\u001b[0;32m     98\u001b[0m     Period,\n\u001b[0;32m     99\u001b[0m     period_range,\n\u001b[0;32m    100\u001b[0m     Timedelta,\n\u001b[0;32m    101\u001b[0m     timedelta_range,\n\u001b[0;32m    102\u001b[0m     Timestamp,\n\u001b[0;32m    103\u001b[0m     date_range,\n\u001b[0;32m    104\u001b[0m     bdate_range,\n\u001b[0;32m    105\u001b[0m     Interval,\n\u001b[0;32m    106\u001b[0m     interval_range,\n\u001b[0;32m    107\u001b[0m     DateOffset,\n\u001b[0;32m    108\u001b[0m     \u001b[38;5;66;03m# conversion\u001b[39;00m\n\u001b[0;32m    109\u001b[0m     to_numeric,\n\u001b[0;32m    110\u001b[0m     to_datetime,\n\u001b[0;32m    111\u001b[0m     to_timedelta,\n\u001b[0;32m    112\u001b[0m     \u001b[38;5;66;03m# misc\u001b[39;00m\n\u001b[0;32m    113\u001b[0m     Flags,\n\u001b[0;32m    114\u001b[0m     Grouper,\n\u001b[0;32m    115\u001b[0m     factorize,\n\u001b[0;32m    116\u001b[0m     unique,\n\u001b[0;32m    117\u001b[0m     value_counts,\n\u001b[0;32m    118\u001b[0m     NamedAgg,\n\u001b[0;32m    119\u001b[0m     array,\n\u001b[0;32m    120\u001b[0m     Categorical,\n\u001b[0;32m    121\u001b[0m     set_eng_float_format,\n\u001b[0;32m    122\u001b[0m     Series,\n\u001b[0;32m    123\u001b[0m     DataFrame,\n\u001b[0;32m    124\u001b[0m )\n\u001b[0;32m    126\u001b[0m \u001b[38;5;28;01mfrom\u001b[39;00m\u001b[38;5;250m \u001b[39m\u001b[38;5;21;01mpandas\u001b[39;00m\u001b[38;5;21;01m.\u001b[39;00m\u001b[38;5;21;01mcore\u001b[39;00m\u001b[38;5;21;01m.\u001b[39;00m\u001b[38;5;21;01mdtypes\u001b[39;00m\u001b[38;5;21;01m.\u001b[39;00m\u001b[38;5;21;01mdtypes\u001b[39;00m\u001b[38;5;250m \u001b[39m\u001b[38;5;28;01mimport\u001b[39;00m SparseDtype\n\u001b[0;32m    128\u001b[0m \u001b[38;5;28;01mfrom\u001b[39;00m\u001b[38;5;250m \u001b[39m\u001b[38;5;21;01mpandas\u001b[39;00m\u001b[38;5;21;01m.\u001b[39;00m\u001b[38;5;21;01mtseries\u001b[39;00m\u001b[38;5;21;01m.\u001b[39;00m\u001b[38;5;21;01mapi\u001b[39;00m\u001b[38;5;250m \u001b[39m\u001b[38;5;28;01mimport\u001b[39;00m infer_freq\n",
      "File \u001b[1;32mc:\\Users\\dusad\\miniconda3\\envs\\agnei\\lib\\site-packages\\pandas\\core\\api.py:47\u001b[0m\n\u001b[0;32m     45\u001b[0m \u001b[38;5;28;01mfrom\u001b[39;00m\u001b[38;5;250m \u001b[39m\u001b[38;5;21;01mpandas\u001b[39;00m\u001b[38;5;21;01m.\u001b[39;00m\u001b[38;5;21;01mcore\u001b[39;00m\u001b[38;5;21;01m.\u001b[39;00m\u001b[38;5;21;01mconstruction\u001b[39;00m\u001b[38;5;250m \u001b[39m\u001b[38;5;28;01mimport\u001b[39;00m array\n\u001b[0;32m     46\u001b[0m \u001b[38;5;28;01mfrom\u001b[39;00m\u001b[38;5;250m \u001b[39m\u001b[38;5;21;01mpandas\u001b[39;00m\u001b[38;5;21;01m.\u001b[39;00m\u001b[38;5;21;01mcore\u001b[39;00m\u001b[38;5;21;01m.\u001b[39;00m\u001b[38;5;21;01mflags\u001b[39;00m\u001b[38;5;250m \u001b[39m\u001b[38;5;28;01mimport\u001b[39;00m Flags\n\u001b[1;32m---> 47\u001b[0m \u001b[38;5;28;01mfrom\u001b[39;00m\u001b[38;5;250m \u001b[39m\u001b[38;5;21;01mpandas\u001b[39;00m\u001b[38;5;21;01m.\u001b[39;00m\u001b[38;5;21;01mcore\u001b[39;00m\u001b[38;5;21;01m.\u001b[39;00m\u001b[38;5;21;01mgroupby\u001b[39;00m\u001b[38;5;250m \u001b[39m\u001b[38;5;28;01mimport\u001b[39;00m (\n\u001b[0;32m     48\u001b[0m     Grouper,\n\u001b[0;32m     49\u001b[0m     NamedAgg,\n\u001b[0;32m     50\u001b[0m )\n\u001b[0;32m     51\u001b[0m \u001b[38;5;28;01mfrom\u001b[39;00m\u001b[38;5;250m \u001b[39m\u001b[38;5;21;01mpandas\u001b[39;00m\u001b[38;5;21;01m.\u001b[39;00m\u001b[38;5;21;01mcore\u001b[39;00m\u001b[38;5;21;01m.\u001b[39;00m\u001b[38;5;21;01mindexes\u001b[39;00m\u001b[38;5;21;01m.\u001b[39;00m\u001b[38;5;21;01mapi\u001b[39;00m\u001b[38;5;250m \u001b[39m\u001b[38;5;28;01mimport\u001b[39;00m (\n\u001b[0;32m     52\u001b[0m     CategoricalIndex,\n\u001b[0;32m     53\u001b[0m     DatetimeIndex,\n\u001b[1;32m   (...)\u001b[0m\n\u001b[0;32m     59\u001b[0m     TimedeltaIndex,\n\u001b[0;32m     60\u001b[0m )\n\u001b[0;32m     61\u001b[0m \u001b[38;5;28;01mfrom\u001b[39;00m\u001b[38;5;250m \u001b[39m\u001b[38;5;21;01mpandas\u001b[39;00m\u001b[38;5;21;01m.\u001b[39;00m\u001b[38;5;21;01mcore\u001b[39;00m\u001b[38;5;21;01m.\u001b[39;00m\u001b[38;5;21;01mindexes\u001b[39;00m\u001b[38;5;21;01m.\u001b[39;00m\u001b[38;5;21;01mdatetimes\u001b[39;00m\u001b[38;5;250m \u001b[39m\u001b[38;5;28;01mimport\u001b[39;00m (\n\u001b[0;32m     62\u001b[0m     bdate_range,\n\u001b[0;32m     63\u001b[0m     date_range,\n\u001b[0;32m     64\u001b[0m )\n",
      "File \u001b[1;32mc:\\Users\\dusad\\miniconda3\\envs\\agnei\\lib\\site-packages\\pandas\\core\\groupby\\__init__.py:1\u001b[0m\n\u001b[1;32m----> 1\u001b[0m \u001b[38;5;28;01mfrom\u001b[39;00m\u001b[38;5;250m \u001b[39m\u001b[38;5;21;01mpandas\u001b[39;00m\u001b[38;5;21;01m.\u001b[39;00m\u001b[38;5;21;01mcore\u001b[39;00m\u001b[38;5;21;01m.\u001b[39;00m\u001b[38;5;21;01mgroupby\u001b[39;00m\u001b[38;5;21;01m.\u001b[39;00m\u001b[38;5;21;01mgeneric\u001b[39;00m\u001b[38;5;250m \u001b[39m\u001b[38;5;28;01mimport\u001b[39;00m (\n\u001b[0;32m      2\u001b[0m     DataFrameGroupBy,\n\u001b[0;32m      3\u001b[0m     NamedAgg,\n\u001b[0;32m      4\u001b[0m     SeriesGroupBy,\n\u001b[0;32m      5\u001b[0m )\n\u001b[0;32m      6\u001b[0m \u001b[38;5;28;01mfrom\u001b[39;00m\u001b[38;5;250m \u001b[39m\u001b[38;5;21;01mpandas\u001b[39;00m\u001b[38;5;21;01m.\u001b[39;00m\u001b[38;5;21;01mcore\u001b[39;00m\u001b[38;5;21;01m.\u001b[39;00m\u001b[38;5;21;01mgroupby\u001b[39;00m\u001b[38;5;21;01m.\u001b[39;00m\u001b[38;5;21;01mgroupby\u001b[39;00m\u001b[38;5;250m \u001b[39m\u001b[38;5;28;01mimport\u001b[39;00m GroupBy\n\u001b[0;32m      7\u001b[0m \u001b[38;5;28;01mfrom\u001b[39;00m\u001b[38;5;250m \u001b[39m\u001b[38;5;21;01mpandas\u001b[39;00m\u001b[38;5;21;01m.\u001b[39;00m\u001b[38;5;21;01mcore\u001b[39;00m\u001b[38;5;21;01m.\u001b[39;00m\u001b[38;5;21;01mgroupby\u001b[39;00m\u001b[38;5;21;01m.\u001b[39;00m\u001b[38;5;21;01mgrouper\u001b[39;00m\u001b[38;5;250m \u001b[39m\u001b[38;5;28;01mimport\u001b[39;00m Grouper\n",
      "File \u001b[1;32mc:\\Users\\dusad\\miniconda3\\envs\\agnei\\lib\\site-packages\\pandas\\core\\groupby\\generic.py:68\u001b[0m\n\u001b[0;32m     60\u001b[0m \u001b[38;5;28;01mfrom\u001b[39;00m\u001b[38;5;250m \u001b[39m\u001b[38;5;21;01mpandas\u001b[39;00m\u001b[38;5;21;01m.\u001b[39;00m\u001b[38;5;21;01mcore\u001b[39;00m\u001b[38;5;21;01m.\u001b[39;00m\u001b[38;5;21;01mapply\u001b[39;00m\u001b[38;5;250m \u001b[39m\u001b[38;5;28;01mimport\u001b[39;00m (\n\u001b[0;32m     61\u001b[0m     GroupByApply,\n\u001b[0;32m     62\u001b[0m     maybe_mangle_lambdas,\n\u001b[1;32m   (...)\u001b[0m\n\u001b[0;32m     65\u001b[0m     warn_alias_replacement,\n\u001b[0;32m     66\u001b[0m )\n\u001b[0;32m     67\u001b[0m \u001b[38;5;28;01mimport\u001b[39;00m\u001b[38;5;250m \u001b[39m\u001b[38;5;21;01mpandas\u001b[39;00m\u001b[38;5;21;01m.\u001b[39;00m\u001b[38;5;21;01mcore\u001b[39;00m\u001b[38;5;21;01m.\u001b[39;00m\u001b[38;5;21;01mcommon\u001b[39;00m\u001b[38;5;250m \u001b[39m\u001b[38;5;28;01mas\u001b[39;00m\u001b[38;5;250m \u001b[39m\u001b[38;5;21;01mcom\u001b[39;00m\n\u001b[1;32m---> 68\u001b[0m \u001b[38;5;28;01mfrom\u001b[39;00m\u001b[38;5;250m \u001b[39m\u001b[38;5;21;01mpandas\u001b[39;00m\u001b[38;5;21;01m.\u001b[39;00m\u001b[38;5;21;01mcore\u001b[39;00m\u001b[38;5;21;01m.\u001b[39;00m\u001b[38;5;21;01mframe\u001b[39;00m\u001b[38;5;250m \u001b[39m\u001b[38;5;28;01mimport\u001b[39;00m DataFrame\n\u001b[0;32m     69\u001b[0m \u001b[38;5;28;01mfrom\u001b[39;00m\u001b[38;5;250m \u001b[39m\u001b[38;5;21;01mpandas\u001b[39;00m\u001b[38;5;21;01m.\u001b[39;00m\u001b[38;5;21;01mcore\u001b[39;00m\u001b[38;5;21;01m.\u001b[39;00m\u001b[38;5;21;01mgroupby\u001b[39;00m\u001b[38;5;250m \u001b[39m\u001b[38;5;28;01mimport\u001b[39;00m (\n\u001b[0;32m     70\u001b[0m     base,\n\u001b[0;32m     71\u001b[0m     ops,\n\u001b[0;32m     72\u001b[0m )\n\u001b[0;32m     73\u001b[0m \u001b[38;5;28;01mfrom\u001b[39;00m\u001b[38;5;250m \u001b[39m\u001b[38;5;21;01mpandas\u001b[39;00m\u001b[38;5;21;01m.\u001b[39;00m\u001b[38;5;21;01mcore\u001b[39;00m\u001b[38;5;21;01m.\u001b[39;00m\u001b[38;5;21;01mgroupby\u001b[39;00m\u001b[38;5;21;01m.\u001b[39;00m\u001b[38;5;21;01mgroupby\u001b[39;00m\u001b[38;5;250m \u001b[39m\u001b[38;5;28;01mimport\u001b[39;00m (\n\u001b[0;32m     74\u001b[0m     GroupBy,\n\u001b[0;32m     75\u001b[0m     GroupByPlot,\n\u001b[1;32m   (...)\u001b[0m\n\u001b[0;32m     79\u001b[0m     _transform_template,\n\u001b[0;32m     80\u001b[0m )\n",
      "File \u001b[1;32mc:\\Users\\dusad\\miniconda3\\envs\\agnei\\lib\\site-packages\\pandas\\core\\frame.py:149\u001b[0m\n\u001b[0;32m    143\u001b[0m \u001b[38;5;28;01mfrom\u001b[39;00m\u001b[38;5;250m \u001b[39m\u001b[38;5;21;01mpandas\u001b[39;00m\u001b[38;5;21;01m.\u001b[39;00m\u001b[38;5;21;01mcore\u001b[39;00m\u001b[38;5;21;01m.\u001b[39;00m\u001b[38;5;21;01marrays\u001b[39;00m\u001b[38;5;21;01m.\u001b[39;00m\u001b[38;5;21;01msparse\u001b[39;00m\u001b[38;5;250m \u001b[39m\u001b[38;5;28;01mimport\u001b[39;00m SparseFrameAccessor\n\u001b[0;32m    144\u001b[0m \u001b[38;5;28;01mfrom\u001b[39;00m\u001b[38;5;250m \u001b[39m\u001b[38;5;21;01mpandas\u001b[39;00m\u001b[38;5;21;01m.\u001b[39;00m\u001b[38;5;21;01mcore\u001b[39;00m\u001b[38;5;21;01m.\u001b[39;00m\u001b[38;5;21;01mconstruction\u001b[39;00m\u001b[38;5;250m \u001b[39m\u001b[38;5;28;01mimport\u001b[39;00m (\n\u001b[0;32m    145\u001b[0m     ensure_wrapped_if_datetimelike,\n\u001b[0;32m    146\u001b[0m     sanitize_array,\n\u001b[0;32m    147\u001b[0m     sanitize_masked_array,\n\u001b[0;32m    148\u001b[0m )\n\u001b[1;32m--> 149\u001b[0m \u001b[38;5;28;01mfrom\u001b[39;00m\u001b[38;5;250m \u001b[39m\u001b[38;5;21;01mpandas\u001b[39;00m\u001b[38;5;21;01m.\u001b[39;00m\u001b[38;5;21;01mcore\u001b[39;00m\u001b[38;5;21;01m.\u001b[39;00m\u001b[38;5;21;01mgeneric\u001b[39;00m\u001b[38;5;250m \u001b[39m\u001b[38;5;28;01mimport\u001b[39;00m (\n\u001b[0;32m    150\u001b[0m     NDFrame,\n\u001b[0;32m    151\u001b[0m     make_doc,\n\u001b[0;32m    152\u001b[0m )\n\u001b[0;32m    153\u001b[0m \u001b[38;5;28;01mfrom\u001b[39;00m\u001b[38;5;250m \u001b[39m\u001b[38;5;21;01mpandas\u001b[39;00m\u001b[38;5;21;01m.\u001b[39;00m\u001b[38;5;21;01mcore\u001b[39;00m\u001b[38;5;21;01m.\u001b[39;00m\u001b[38;5;21;01mindexers\u001b[39;00m\u001b[38;5;250m \u001b[39m\u001b[38;5;28;01mimport\u001b[39;00m check_key_length\n\u001b[0;32m    154\u001b[0m \u001b[38;5;28;01mfrom\u001b[39;00m\u001b[38;5;250m \u001b[39m\u001b[38;5;21;01mpandas\u001b[39;00m\u001b[38;5;21;01m.\u001b[39;00m\u001b[38;5;21;01mcore\u001b[39;00m\u001b[38;5;21;01m.\u001b[39;00m\u001b[38;5;21;01mindexes\u001b[39;00m\u001b[38;5;21;01m.\u001b[39;00m\u001b[38;5;21;01mapi\u001b[39;00m\u001b[38;5;250m \u001b[39m\u001b[38;5;28;01mimport\u001b[39;00m (\n\u001b[0;32m    155\u001b[0m     DatetimeIndex,\n\u001b[0;32m    156\u001b[0m     Index,\n\u001b[1;32m   (...)\u001b[0m\n\u001b[0;32m    160\u001b[0m     ensure_index_from_sequences,\n\u001b[0;32m    161\u001b[0m )\n",
      "File \u001b[1;32mc:\\Users\\dusad\\miniconda3\\envs\\agnei\\lib\\site-packages\\pandas\\core\\generic.py:152\u001b[0m\n\u001b[0;32m    143\u001b[0m \u001b[38;5;28;01mfrom\u001b[39;00m\u001b[38;5;250m \u001b[39m\u001b[38;5;21;01mpandas\u001b[39;00m\u001b[38;5;21;01m.\u001b[39;00m\u001b[38;5;21;01mcore\u001b[39;00m\u001b[38;5;21;01m.\u001b[39;00m\u001b[38;5;21;01mdtypes\u001b[39;00m\u001b[38;5;21;01m.\u001b[39;00m\u001b[38;5;21;01minference\u001b[39;00m\u001b[38;5;250m \u001b[39m\u001b[38;5;28;01mimport\u001b[39;00m (\n\u001b[0;32m    144\u001b[0m     is_hashable,\n\u001b[0;32m    145\u001b[0m     is_nested_list_like,\n\u001b[0;32m    146\u001b[0m )\n\u001b[0;32m    147\u001b[0m \u001b[38;5;28;01mfrom\u001b[39;00m\u001b[38;5;250m \u001b[39m\u001b[38;5;21;01mpandas\u001b[39;00m\u001b[38;5;21;01m.\u001b[39;00m\u001b[38;5;21;01mcore\u001b[39;00m\u001b[38;5;21;01m.\u001b[39;00m\u001b[38;5;21;01mdtypes\u001b[39;00m\u001b[38;5;21;01m.\u001b[39;00m\u001b[38;5;21;01mmissing\u001b[39;00m\u001b[38;5;250m \u001b[39m\u001b[38;5;28;01mimport\u001b[39;00m (\n\u001b[0;32m    148\u001b[0m     isna,\n\u001b[0;32m    149\u001b[0m     notna,\n\u001b[0;32m    150\u001b[0m )\n\u001b[1;32m--> 152\u001b[0m \u001b[38;5;28;01mfrom\u001b[39;00m\u001b[38;5;250m \u001b[39m\u001b[38;5;21;01mpandas\u001b[39;00m\u001b[38;5;21;01m.\u001b[39;00m\u001b[38;5;21;01mcore\u001b[39;00m\u001b[38;5;250m \u001b[39m\u001b[38;5;28;01mimport\u001b[39;00m (\n\u001b[0;32m    153\u001b[0m     algorithms \u001b[38;5;28;01mas\u001b[39;00m algos,\n\u001b[0;32m    154\u001b[0m     arraylike,\n\u001b[0;32m    155\u001b[0m     common,\n\u001b[0;32m    156\u001b[0m     indexing,\n\u001b[0;32m    157\u001b[0m     missing,\n\u001b[0;32m    158\u001b[0m     nanops,\n\u001b[0;32m    159\u001b[0m     sample,\n\u001b[0;32m    160\u001b[0m )\n\u001b[0;32m    161\u001b[0m \u001b[38;5;28;01mfrom\u001b[39;00m\u001b[38;5;250m \u001b[39m\u001b[38;5;21;01mpandas\u001b[39;00m\u001b[38;5;21;01m.\u001b[39;00m\u001b[38;5;21;01mcore\u001b[39;00m\u001b[38;5;21;01m.\u001b[39;00m\u001b[38;5;21;01marray_algos\u001b[39;00m\u001b[38;5;21;01m.\u001b[39;00m\u001b[38;5;21;01mreplace\u001b[39;00m\u001b[38;5;250m \u001b[39m\u001b[38;5;28;01mimport\u001b[39;00m should_use_regex\n\u001b[0;32m    162\u001b[0m \u001b[38;5;28;01mfrom\u001b[39;00m\u001b[38;5;250m \u001b[39m\u001b[38;5;21;01mpandas\u001b[39;00m\u001b[38;5;21;01m.\u001b[39;00m\u001b[38;5;21;01mcore\u001b[39;00m\u001b[38;5;21;01m.\u001b[39;00m\u001b[38;5;21;01marrays\u001b[39;00m\u001b[38;5;250m \u001b[39m\u001b[38;5;28;01mimport\u001b[39;00m ExtensionArray\n",
      "File \u001b[1;32m<frozen importlib._bootstrap>:1027\u001b[0m, in \u001b[0;36m_find_and_load\u001b[1;34m(name, import_)\u001b[0m\n",
      "File \u001b[1;32m<frozen importlib._bootstrap>:1002\u001b[0m, in \u001b[0;36m_find_and_load_unlocked\u001b[1;34m(name, import_)\u001b[0m\n",
      "File \u001b[1;32m<frozen importlib._bootstrap>:945\u001b[0m, in \u001b[0;36m_find_spec\u001b[1;34m(name, path, target)\u001b[0m\n",
      "File \u001b[1;32m<frozen importlib._bootstrap_external>:1439\u001b[0m, in \u001b[0;36mfind_spec\u001b[1;34m(cls, fullname, path, target)\u001b[0m\n",
      "File \u001b[1;32m<frozen importlib._bootstrap_external>:1411\u001b[0m, in \u001b[0;36m_get_spec\u001b[1;34m(cls, fullname, path, target)\u001b[0m\n",
      "File \u001b[1;32m<frozen importlib._bootstrap_external>:1544\u001b[0m, in \u001b[0;36mfind_spec\u001b[1;34m(self, fullname, target)\u001b[0m\n",
      "File \u001b[1;32m<frozen importlib._bootstrap_external>:147\u001b[0m, in \u001b[0;36m_path_stat\u001b[1;34m(path)\u001b[0m\n",
      "\u001b[1;31mKeyboardInterrupt\u001b[0m: "
     ]
    }
   ],
   "source": [
    "import mlflow\n",
    "import mlflow.sklearn\n",
    "from sklearn import datasets\n",
    "from sklearn.model_selection import train_test_split\n",
    "from sklearn.linear_model import LogisticRegression\n",
    "from sklearn.metrics import accuracy_score\n",
    "\n",
    "# Set up MLflow tracking URI\n",
    "mlflow.set_tracking_uri(\"http://localhost:5000\")\n",
    "\n",
    "# Load dataset\n",
    "iris = datasets.load_iris()\n",
    "X = iris.data\n",
    "y = iris.target\n",
    "\n",
    "# Split data\n",
    "X_train, X_test, y_train, y_test = train_test_split(X, y, test_size=0.2, random_state=42)\n",
    "\n",
    "# Set experiment\n",
    "mlflow.set_experiment(\"iris_test\")\n",
    "\n",
    "# Train and log model\n",
    "with mlflow.start_run():\n",
    "    model = LogisticRegression(max_iter=200)\n",
    "    model.fit(X_train, y_train)\n",
    "    \n",
    "    # Predict and evaluate\n",
    "    predictions = model.predict(X_test)\n",
    "    acc = accuracy_score(y_test, predictions)\n",
    "\n",
    "    # Log model and metrics\n",
    "    mlflow.log_metric(\"accuracy\", acc)\n",
    "    mlflow.sklearn.log_model(model, \"logistic_regression_model\")\n",
    "\n",
    "    print(f\"Logged to MLflow with accuracy: {acc}\")\n"
   ]
  },
  {
   "cell_type": "code",
   "execution_count": null,
   "id": "4aca3850",
   "metadata": {},
   "outputs": [],
   "source": []
  },
  {
   "cell_type": "code",
   "execution_count": null,
   "id": "481642fa",
   "metadata": {},
   "outputs": [
    {
     "name": "stdout",
     "output_type": "stream",
     "text": [
      "Current working directory: c:\\Users\\dusad\\Documents\\Projects\\agnei_consulting\\mlutils\\Notebooks\n"
     ]
    }
   ],
   "source": [
    "from pathlib import Path\n",
    "\n",
    "current_path = Path.cwd()\n",
    "print(f\"Current working directory: {current_path}\")"
   ]
  },
  {
   "cell_type": "code",
   "execution_count": null,
   "id": "d3c73069",
   "metadata": {},
   "outputs": [],
   "source": []
  },
  {
   "cell_type": "markdown",
   "id": "67ebf7dd",
   "metadata": {},
   "source": [
    "### Attempt downloading with Kaggle"
   ]
  },
  {
   "cell_type": "code",
   "execution_count": null,
   "id": "e0209947",
   "metadata": {},
   "outputs": [
    {
     "name": "stderr",
     "output_type": "stream",
     "text": [
      "c:\\Users\\dusad\\miniconda3\\envs\\agnei\\lib\\site-packages\\tqdm\\auto.py:21: TqdmWarning: IProgress not found. Please update jupyter and ipywidgets. See https://ipywidgets.readthedocs.io/en/stable/user_install.html\n",
      "  from .autonotebook import tqdm as notebook_tqdm\n"
     ]
    },
    {
     "name": "stdout",
     "output_type": "stream",
     "text": [
      "Downloading from https://www.kaggle.com/api/v1/datasets/download/blastchar/telco-customer-churn?dataset_version_number=1...\n"
     ]
    },
    {
     "name": "stderr",
     "output_type": "stream",
     "text": [
      "100%|██████████| 172k/172k [00:00<00:00, 189kB/s]"
     ]
    },
    {
     "name": "stdout",
     "output_type": "stream",
     "text": [
      "Extracting files...\n"
     ]
    },
    {
     "name": "stderr",
     "output_type": "stream",
     "text": [
      "\n"
     ]
    },
    {
     "data": {
      "text/plain": [
       "'c:/Users/dusad/Documents/Projects/agnei_consulting/mlutils/data\\\\datasets\\\\blastchar\\\\telco-customer-churn\\\\versions\\\\1'"
      ]
     },
     "execution_count": 1,
     "metadata": {},
     "output_type": "execute_result"
    }
   ],
   "source": [
    "from mlutils.utils.kaggle import fetch_kaggle_dataset\n",
    "from mlutils.utils.io import find_git_root\n",
    "_dir = find_git_root() / \"data\"\n",
    "fetch_kaggle_dataset(dataset_name=\"blastchar/telco-customer-churn\", \n",
    "                     path = _dir)"
   ]
  },
  {
   "cell_type": "code",
   "execution_count": null,
   "id": "e91f4d2a",
   "metadata": {},
   "outputs": [
    {
     "data": {
      "text/plain": [
       "WindowsPath('c:/Users/dusad/Documents/Projects/agnei_consulting/mlutils/data')"
      ]
     },
     "execution_count": 4,
     "metadata": {},
     "output_type": "execute_result"
    }
   ],
   "source": [
    "_dir"
   ]
  },
  {
   "cell_type": "code",
   "execution_count": null,
   "id": "28daa94c",
   "metadata": {},
   "outputs": [
    {
     "name": "stdout",
     "output_type": "stream",
     "text": [
      "File 'a.txt' uploaded to blob 'folder/uploaded_file.txt' in container 'expt'.\n"
     ]
    }
   ],
   "source": [
    "blob_name = \"folder/uploaded_file.txt\"\n",
    "local_file_path = \"a.txt\"\n",
    "\n",
    "from mlutils.cloud.azure import upload_file_to_blob\n",
    "upload_file_to_blob(blob_name=blob_name, \n",
    "                     local_file_path=local_file_path, \n",
    "                    )"
   ]
  },
  {
   "cell_type": "code",
   "execution_count": 4,
   "id": "113adc29",
   "metadata": {},
   "outputs": [
    {
     "data": {
      "text/plain": [
       "botocore.client.S3"
      ]
     },
     "execution_count": 4,
     "metadata": {},
     "output_type": "execute_result"
    }
   ],
   "source": [
    "import boto3\n",
    "type(boto3.client(\"s3\", region_name=\"us-east-2\"))"
   ]
  },
  {
   "cell_type": "code",
   "execution_count": 7,
   "id": "753a224c",
   "metadata": {},
   "outputs": [],
   "source": [
    "filename = \"test_dump/uploaded_file.txt\"\n",
    "local_file_path = \"a.txt\"\n",
    "\n",
    "from mlutils.cloud.aws import AWSStorage\n",
    "aws_storage = AWSStorage()\n",
    "# aws_storage.upload_file(upload_file=local_file_path, \n",
    "#                      filename=filename, \n",
    "#                     )\n",
    "\n",
    "# aws_storage.generate_presigned_url_for_object(filename,\n",
    "#                                    expiration=3600)  # URL valid for 1 hour\n",
    "\n",
    "# aws_storage.create_bucket('crete-b')\n",
    "# aws_storage.delete_bucket('crete-b')\n",
    "# aws_storage.list_buckets()\n",
    "\n",
    "# aws_storage.list_objects('expt')"
   ]
  },
  {
   "cell_type": "code",
   "execution_count": null,
   "id": "2378d8a8",
   "metadata": {},
   "outputs": [],
   "source": []
  },
  {
   "cell_type": "code",
   "execution_count": null,
   "id": "d7f48849",
   "metadata": {},
   "outputs": [
    {
     "data": {
      "text/plain": [
       "'https://storage.googleapis.com/expt-mandrakebio/folder/your_file.txt?Expires=3600&GoogleAccessId=developer%40tensile-medium-462217-i7.iam.gserviceaccount.com&Signature=PuSfMxn%2BnvMFNMAh6fGt4SyL2OHxB%2FDl8uyWJro3K2C49LhymPhI0a7N%2BQGKuN8nxI8e8NDGBpVxE8VQ7XNhAoF4WLRyYn9RePGYp95bLMfqdrfbCvGqDXdHI4uMORAGMC9L%2B7n1n6ek5fjiMV4Txp6HhiV2NtccgkyG9M46mNMfP1NZjZc6h%2BWxmsmGCk%2BiA5BJNEN5QntYKoxvQ9%2B9qyqgMRZ8TJj4oh81iZG5zCJcvcbmtoiEwfq2wEYakGJmY2ORND5ZFuOSKxbaarLSG8q8%2BKmbz3KnD1UqzK6LENkmNGC0PpKEZa66r%2FX8zTZ%2BHNhiZe%2FmzbHcnOw0QAPY%2FA%3D%3D'"
      ]
     },
     "execution_count": 6,
     "metadata": {},
     "output_type": "execute_result"
    }
   ],
   "source": [
    "from mlutils.cloud.gcp import upload_blob, GCPStorage\n",
    "\n",
    "# GCS bucket and file info\n",
    "bucket_name = \"expt-mandrakebio\"\n",
    "destination_blob_name = \"folder/your_file.txt\"  # GCS path\n",
    "local_file_path = \"a.txt\"  # Local file to upload\n",
    "\n",
    "\n",
    "# upload_blob(bucket_name, destination_blob_name, local_file_path)\n",
    "gcp_storage = GCPStorage()\n",
    "# gcp_storage.upload_file(upload_file=local_file_path, \n",
    "#                          filename=destination_blob_name)\n",
    "\n",
    "# gcp_storage.list_buckets()     \n",
    "\n",
    "gcp_storage.generate_presigned_url_for_object(destination_blob_name,\n",
    "                                    )  "
   ]
  },
  {
   "cell_type": "code",
   "execution_count": null,
   "id": "72db00d3",
   "metadata": {},
   "outputs": [],
   "source": []
  },
  {
   "cell_type": "code",
   "execution_count": null,
   "id": "cd086215",
   "metadata": {},
   "outputs": [
    {
     "data": {
      "text/plain": [
       "sklearn.linear_model._logistic.LogisticRegression"
      ]
     },
     "execution_count": 11,
     "metadata": {},
     "output_type": "execute_result"
    }
   ],
   "source": [
    "import sklearn\n",
    "getattr(sklearn.linear_model, 'LogisticRegression')"
   ]
  },
  {
   "cell_type": "code",
   "execution_count": null,
   "id": "e38d1f58",
   "metadata": {},
   "outputs": [],
   "source": []
  },
  {
   "cell_type": "code",
   "execution_count": null,
   "id": "a5165c94",
   "metadata": {},
   "outputs": [],
   "source": []
  },
  {
   "cell_type": "markdown",
   "id": "2cb46904",
   "metadata": {},
   "source": []
  },
  {
   "cell_type": "code",
   "execution_count": null,
   "id": "0cf7c507",
   "metadata": {},
   "outputs": [],
   "source": []
  },
  {
   "cell_type": "code",
   "execution_count": null,
   "id": "8931906a",
   "metadata": {},
   "outputs": [],
   "source": [
    "from mlutils.utils.io import find_git_root\n",
    "_dir = find_git_root() / \"config\"\n",
    "\n",
    "import sys\n",
    "sys.path.append(str(_dir))\n",
    "\n",
    "import config"
   ]
  },
  {
   "cell_type": "code",
   "execution_count": null,
   "id": "a414e639",
   "metadata": {},
   "outputs": [],
   "source": [
    "from config.binary_classifier import models_param_grid"
   ]
  },
  {
   "cell_type": "code",
   "execution_count": null,
   "id": "9986f23b",
   "metadata": {},
   "outputs": [
    {
     "name": "stderr",
     "output_type": "stream",
     "text": [
      "c:\\Users\\dusad\\miniconda3\\envs\\agnei\\lib\\site-packages\\tqdm\\auto.py:21: TqdmWarning: IProgress not found. Please update jupyter and ipywidgets. See https://ipywidgets.readthedocs.io/en/stable/user_install.html\n",
      "  from .autonotebook import tqdm as notebook_tqdm\n"
     ]
    },
    {
     "data": {
      "text/plain": [
       "{'LogisticRegression': {'param_grid': {'model__C': FloatDistribution(high=10.0, log=True, low=0.01, step=None),\n",
       "   'model__penalty': CategoricalDistribution(choices=('l2',)),\n",
       "   'model__solver': CategoricalDistribution(choices=('lbfgs', 'liblinear')),\n",
       "   'model__max_iter': IntDistribution(high=1000, log=False, low=10, step=1)},\n",
       "  'model': LogisticRegression()},\n",
       " 'GradientBoostingClassifier': {'param_grid': {'model__n_estimators': IntDistribution(high=200, log=False, low=100, step=1),\n",
       "   'model__learning_rate': FloatDistribution(high=0.2, log=True, low=0.01, step=None),\n",
       "   'model__max_depth': IntDistribution(high=5, log=False, low=3, step=1)},\n",
       "  'model': GradientBoostingClassifier()}}"
      ]
     },
     "execution_count": 3,
     "metadata": {},
     "output_type": "execute_result"
    }
   ],
   "source": [
    "from config.binary_classifier import models_param_grid\n"
   ]
  },
  {
   "cell_type": "code",
   "execution_count": null,
   "id": "66698ee1",
   "metadata": {},
   "outputs": [],
   "source": [
    "from mlutils.utils.io import split_train_test, read_local_data\n",
    "from mlutils.automl.train import model_tune\n",
    "from mlutils.utils.config import clean_model_params, param_grid_fix\n",
    "\n",
    "HYPERPARAMS_DICT = param_grid_fix(models_param_grid, 'optuna_search')"
   ]
  },
  {
   "cell_type": "code",
   "execution_count": null,
   "id": "f04e1213",
   "metadata": {},
   "outputs": [
    {
     "name": "stderr",
     "output_type": "stream",
     "text": [
      "2025/06/08 13:14:06 INFO mlflow.tracking.fluent: Experiment with name 'optuna-search-imbalanced' does not exist. Creating a new experiment.\n"
     ]
    },
    {
     "name": "stdout",
     "output_type": "stream",
     "text": [
      "---LogisticRegression----\n"
     ]
    },
    {
     "name": "stderr",
     "output_type": "stream",
     "text": [
      "C:\\Users\\dusad\\Documents\\Projects\\agnei_consulting\\mlutils\\src\\mlutils\\automl\\train.py:62: ExperimentalWarning: OptunaSearchCV is experimental (supported from v0.17.0). The interface can change in the future.\n",
      "  searcher = OptunaSearchCV(pipeline, param_grid, cv=5, scoring=\"recall\", n_trials=50, n_jobs=-1)\n",
      "[I 2025-06-08 13:14:16,747] A new study created in memory with name: no-name-0e1545da-07d5-4db8-a6d7-bb4442ef20ac\n",
      "[I 2025-06-08 13:14:27,800] Trial 10 finished with value: 0.7807580824972129 and parameters: {'model__C': 0.33715777675176695, 'model__penalty': 'l2', 'model__solver': 'liblinear', 'model__max_iter': 945}. Best is trial 10 with value: 0.7807580824972129.\n",
      "[I 2025-06-08 13:14:27,832] Trial 8 finished with value: 0.7814269788182833 and parameters: {'model__C': 0.2348576321023204, 'model__penalty': 'l2', 'model__solver': 'liblinear', 'model__max_iter': 678}. Best is trial 8 with value: 0.7814269788182833.\n",
      "[I 2025-06-08 13:14:28,074] Trial 9 finished with value: 0.7874448160535117 and parameters: {'model__C': 0.01638797082412542, 'model__penalty': 'l2', 'model__solver': 'liblinear', 'model__max_iter': 64}. Best is trial 9 with value: 0.7874448160535117.\n",
      "[I 2025-06-08 13:14:28,120] Trial 3 finished with value: 0.7874448160535117 and parameters: {'model__C': 0.015226988644170433, 'model__penalty': 'l2', 'model__solver': 'liblinear', 'model__max_iter': 185}. Best is trial 9 with value: 0.7874448160535117.\n",
      "[I 2025-06-08 13:14:28,190] Trial 1 finished with value: 0.7814247491638795 and parameters: {'model__C': 1.929427823892824, 'model__penalty': 'l2', 'model__solver': 'liblinear', 'model__max_iter': 111}. Best is trial 9 with value: 0.7874448160535117.\n",
      "[I 2025-06-08 13:14:28,248] Trial 2 finished with value: 0.7807580824972129 and parameters: {'model__C': 0.3514642154748994, 'model__penalty': 'l2', 'model__solver': 'liblinear', 'model__max_iter': 770}. Best is trial 9 with value: 0.7874448160535117.\n",
      "[I 2025-06-08 13:14:28,255] Trial 7 finished with value: 0.7807580824972129 and parameters: {'model__C': 0.3310976300803115, 'model__penalty': 'l2', 'model__solver': 'liblinear', 'model__max_iter': 927}. Best is trial 9 with value: 0.7874448160535117.\n",
      "[I 2025-06-08 13:14:29,614] Trial 11 finished with value: 0.7814247491638795 and parameters: {'model__C': 9.42323561113029, 'model__penalty': 'l2', 'model__solver': 'lbfgs', 'model__max_iter': 473}. Best is trial 9 with value: 0.7874448160535117.\n",
      "[I 2025-06-08 13:14:29,931] Trial 5 finished with value: 0.7827670011148271 and parameters: {'model__C': 0.04513530627088565, 'model__penalty': 'l2', 'model__solver': 'lbfgs', 'model__max_iter': 244}. Best is trial 9 with value: 0.7874448160535117.\n",
      "[I 2025-06-08 13:14:30,096] Trial 4 finished with value: 0.7861092530657748 and parameters: {'model__C': 0.018937928958067878, 'model__penalty': 'l2', 'model__solver': 'lbfgs', 'model__max_iter': 77}. Best is trial 9 with value: 0.7874448160535117.\n",
      "[I 2025-06-08 13:14:30,328] Trial 0 finished with value: 0.7814269788182833 and parameters: {'model__C': 0.23584242567664412, 'model__penalty': 'l2', 'model__solver': 'lbfgs', 'model__max_iter': 869}. Best is trial 9 with value: 0.7874448160535117.\n",
      "[I 2025-06-08 13:14:30,442] Trial 6 finished with value: 0.7841070234113712 and parameters: {'model__C': 0.012727523734118982, 'model__penalty': 'l2', 'model__solver': 'lbfgs', 'model__max_iter': 396}. Best is trial 9 with value: 0.7874448160535117.\n",
      "[I 2025-06-08 13:14:32,093] Trial 12 finished with value: 0.7814269788182832 and parameters: {'model__C': 0.14494931713976655, 'model__penalty': 'l2', 'model__solver': 'liblinear', 'model__max_iter': 846}. Best is trial 9 with value: 0.7874448160535117.\n",
      "[I 2025-06-08 13:14:32,485] Trial 14 finished with value: 0.7814247491638795 and parameters: {'model__C': 1.11996776104778, 'model__penalty': 'l2', 'model__solver': 'liblinear', 'model__max_iter': 861}. Best is trial 9 with value: 0.7874448160535117.\n",
      "[I 2025-06-08 13:14:33,049] Trial 15 finished with value: 0.7814247491638795 and parameters: {'model__C': 9.146068961923923, 'model__penalty': 'l2', 'model__solver': 'liblinear', 'model__max_iter': 394}. Best is trial 9 with value: 0.7874448160535117.\n",
      "[I 2025-06-08 13:14:33,560] Trial 17 finished with value: 0.7814269788182833 and parameters: {'model__C': 0.22859075372880752, 'model__penalty': 'l2', 'model__solver': 'liblinear', 'model__max_iter': 710}. Best is trial 9 with value: 0.7874448160535117.\n",
      "[I 2025-06-08 13:14:33,957] Trial 13 finished with value: 0.7807580824972129 and parameters: {'model__C': 0.38003643786749036, 'model__penalty': 'l2', 'model__solver': 'lbfgs', 'model__max_iter': 78}. Best is trial 9 with value: 0.7874448160535117.\n",
      "[I 2025-06-08 13:14:34,513] Trial 19 finished with value: 0.7814269788182833 and parameters: {'model__C': 0.2987032678651903, 'model__penalty': 'l2', 'model__solver': 'liblinear', 'model__max_iter': 839}. Best is trial 9 with value: 0.7874448160535117.\n",
      "[I 2025-06-08 13:14:34,817] Trial 18 finished with value: 0.7841047937569676 and parameters: {'model__C': 0.020332108405839083, 'model__penalty': 'l2', 'model__solver': 'lbfgs', 'model__max_iter': 38}. Best is trial 9 with value: 0.7874448160535117.\n",
      "[I 2025-06-08 13:14:34,984] Trial 16 finished with value: 0.7814247491638795 and parameters: {'model__C': 8.94773285028211, 'model__penalty': 'l2', 'model__solver': 'lbfgs', 'model__max_iter': 169}. Best is trial 9 with value: 0.7874448160535117.\n",
      "[I 2025-06-08 13:14:35,662] Trial 22 finished with value: 0.7907803790412485 and parameters: {'model__C': 0.01075203956357407, 'model__penalty': 'l2', 'model__solver': 'liblinear', 'model__max_iter': 322}. Best is trial 22 with value: 0.7907803790412485.\n",
      "[I 2025-06-08 13:14:35,794] Trial 23 finished with value: 0.7827647714604236 and parameters: {'model__C': 0.05113123863321088, 'model__penalty': 'l2', 'model__solver': 'liblinear', 'model__max_iter': 263}. Best is trial 22 with value: 0.7907803790412485.\n",
      "[I 2025-06-08 13:14:36,857] Trial 20 finished with value: 0.7807580824972129 and parameters: {'model__C': 0.4990166964653973, 'model__penalty': 'l2', 'model__solver': 'lbfgs', 'model__max_iter': 215}. Best is trial 22 with value: 0.7907803790412485.\n",
      "[I 2025-06-08 13:14:37,212] Trial 21 finished with value: 0.782098104793757 and parameters: {'model__C': 0.055618967975231096, 'model__penalty': 'l2', 'model__solver': 'lbfgs', 'model__max_iter': 397}. Best is trial 22 with value: 0.7907803790412485.\n",
      "[I 2025-06-08 13:14:37,690] Trial 25 finished with value: 0.7854403567447046 and parameters: {'model__C': 0.03862034256029446, 'model__penalty': 'l2', 'model__solver': 'liblinear', 'model__max_iter': 263}. Best is trial 22 with value: 0.7907803790412485.\n",
      "[I 2025-06-08 13:14:38,011] Trial 24 finished with value: 0.7834336677814939 and parameters: {'model__C': 0.04633249186028239, 'model__penalty': 'l2', 'model__solver': 'liblinear', 'model__max_iter': 256}. Best is trial 22 with value: 0.7907803790412485.\n",
      "[I 2025-06-08 13:14:38,828] Trial 26 finished with value: 0.7834336677814939 and parameters: {'model__C': 0.04518269149987855, 'model__penalty': 'l2', 'model__solver': 'liblinear', 'model__max_iter': 215}. Best is trial 22 with value: 0.7907803790412485.\n",
      "[I 2025-06-08 13:14:39,691] Trial 28 finished with value: 0.7854403567447046 and parameters: {'model__C': 0.03871046028070514, 'model__penalty': 'l2', 'model__solver': 'liblinear', 'model__max_iter': 247}. Best is trial 22 with value: 0.7907803790412485.\n",
      "[I 2025-06-08 13:14:40,007] Trial 27 finished with value: 0.7867781493868451 and parameters: {'model__C': 0.034353341775432575, 'model__penalty': 'l2', 'model__solver': 'liblinear', 'model__max_iter': 204}. Best is trial 22 with value: 0.7907803790412485.\n",
      "[I 2025-06-08 13:14:40,663] Trial 29 finished with value: 0.7861092530657748 and parameters: {'model__C': 0.037209435821380775, 'model__penalty': 'l2', 'model__solver': 'liblinear', 'model__max_iter': 227}. Best is trial 22 with value: 0.7907803790412485.\n",
      "[I 2025-06-08 13:14:41,547] Trial 31 finished with value: 0.7827647714604236 and parameters: {'model__C': 0.05520105558544154, 'model__penalty': 'l2', 'model__solver': 'liblinear', 'model__max_iter': 265}. Best is trial 22 with value: 0.7907803790412485.\n",
      "[I 2025-06-08 13:14:41,617] Trial 30 finished with value: 0.782098104793757 and parameters: {'model__C': 0.06029990491350468, 'model__penalty': 'l2', 'model__solver': 'liblinear', 'model__max_iter': 243}. Best is trial 22 with value: 0.7907803790412485.\n",
      "[I 2025-06-08 13:14:42,406] Trial 33 finished with value: 0.7834336677814939 and parameters: {'model__C': 0.04142235917879199, 'model__penalty': 'l2', 'model__solver': 'liblinear', 'model__max_iter': 264}. Best is trial 22 with value: 0.7907803790412485.\n",
      "[I 2025-06-08 13:14:42,604] Trial 32 finished with value: 0.7834336677814939 and parameters: {'model__C': 0.04685518296046167, 'model__penalty': 'l2', 'model__solver': 'liblinear', 'model__max_iter': 276}. Best is trial 22 with value: 0.7907803790412485.\n",
      "[I 2025-06-08 13:14:43,740] Trial 34 finished with value: 0.7834336677814939 and parameters: {'model__C': 0.04405320339281967, 'model__penalty': 'l2', 'model__solver': 'liblinear', 'model__max_iter': 334}. Best is trial 22 with value: 0.7907803790412485.\n",
      "[I 2025-06-08 13:14:44,146] Trial 35 finished with value: 0.7901114827201784 and parameters: {'model__C': 0.011087661794060446, 'model__penalty': 'l2', 'model__solver': 'liblinear', 'model__max_iter': 326}. Best is trial 22 with value: 0.7907803790412485.\n",
      "[I 2025-06-08 13:14:44,505] Trial 37 finished with value: 0.7907803790412485 and parameters: {'model__C': 0.010116634383938186, 'model__penalty': 'l2', 'model__solver': 'liblinear', 'model__max_iter': 11}. Best is trial 22 with value: 0.7907803790412485.\n",
      "[I 2025-06-08 13:14:44,511] Trial 36 finished with value: 0.7907803790412485 and parameters: {'model__C': 0.010129650917852142, 'model__penalty': 'l2', 'model__solver': 'liblinear', 'model__max_iter': 325}. Best is trial 22 with value: 0.7907803790412485.\n",
      "[I 2025-06-08 13:14:45,677] Trial 38 finished with value: 0.7901114827201784 and parameters: {'model__C': 0.010843400705155307, 'model__penalty': 'l2', 'model__solver': 'liblinear', 'model__max_iter': 340}. Best is trial 22 with value: 0.7907803790412485.\n",
      "[I 2025-06-08 13:14:46,558] Trial 39 finished with value: 0.7881092530657747 and parameters: {'model__C': 0.012062763247941546, 'model__penalty': 'l2', 'model__solver': 'liblinear', 'model__max_iter': 324}. Best is trial 22 with value: 0.7907803790412485.\n",
      "[I 2025-06-08 13:14:46,861] Trial 40 finished with value: 0.7800914158305463 and parameters: {'model__C': 0.09597718578514504, 'model__penalty': 'l2', 'model__solver': 'liblinear', 'model__max_iter': 338}. Best is trial 22 with value: 0.7907803790412485.\n",
      "[I 2025-06-08 13:14:47,080] Trial 41 finished with value: 0.7907803790412485 and parameters: {'model__C': 0.01071209619117302, 'model__penalty': 'l2', 'model__solver': 'liblinear', 'model__max_iter': 331}. Best is trial 22 with value: 0.7907803790412485.\n",
      "[I 2025-06-08 13:14:47,780] Trial 42 finished with value: 0.7907803790412485 and parameters: {'model__C': 0.01026476607591144, 'model__penalty': 'l2', 'model__solver': 'liblinear', 'model__max_iter': 141}. Best is trial 22 with value: 0.7907803790412485.\n",
      "[I 2025-06-08 13:14:48,120] Trial 43 finished with value: 0.7907803790412485 and parameters: {'model__C': 0.010338611986740767, 'model__penalty': 'l2', 'model__solver': 'liblinear', 'model__max_iter': 133}. Best is trial 22 with value: 0.7907803790412485.\n",
      "[I 2025-06-08 13:14:48,238] Trial 44 finished with value: 0.7887781493868451 and parameters: {'model__C': 0.011905549710463833, 'model__penalty': 'l2', 'model__solver': 'liblinear', 'model__max_iter': 143}. Best is trial 22 with value: 0.7907803790412485.\n",
      "[I 2025-06-08 13:14:48,524] Trial 45 finished with value: 0.7907803790412485 and parameters: {'model__C': 0.010460865392135641, 'model__penalty': 'l2', 'model__solver': 'liblinear', 'model__max_iter': 138}. Best is trial 22 with value: 0.7907803790412485.\n",
      "[I 2025-06-08 13:14:48,764] Trial 46 finished with value: 0.7907803790412485 and parameters: {'model__C': 0.010447577504582337, 'model__penalty': 'l2', 'model__solver': 'liblinear', 'model__max_iter': 139}. Best is trial 22 with value: 0.7907803790412485.\n",
      "[I 2025-06-08 13:14:48,827] Trial 47 finished with value: 0.7901114827201784 and parameters: {'model__C': 0.010892380155831584, 'model__penalty': 'l2', 'model__solver': 'liblinear', 'model__max_iter': 131}. Best is trial 22 with value: 0.7907803790412485.\n",
      "[I 2025-06-08 13:14:48,938] Trial 48 finished with value: 0.7907803790412485 and parameters: {'model__C': 0.010442663617543882, 'model__penalty': 'l2', 'model__solver': 'liblinear', 'model__max_iter': 518}. Best is trial 22 with value: 0.7907803790412485.\n",
      "[I 2025-06-08 13:14:48,945] Trial 49 finished with value: 0.7867781493868451 and parameters: {'model__C': 0.02411947379734725, 'model__penalty': 'l2', 'model__solver': 'liblinear', 'model__max_iter': 568}. Best is trial 22 with value: 0.7907803790412485.\n",
      "2025/06/08 13:15:09 WARNING mlflow.models.model: Model logged without a signature and input example. Please set `input_example` parameter when logging the model to auto infer the model signature.\n",
      "2025-06-08 13:15:19,420 - Eval - INFO - Accuracy: {_accuracy}\n",
      "2025-06-08 13:15:19,432 - Eval - INFO - Precision: {_precision}\n",
      "2025-06-08 13:15:19,441 - Eval - INFO - Recall: {_recall}\n",
      "2025-06-08 13:15:19,455 - Eval - INFO - F1 Score: {_f1_score}\n",
      "2025-06-08 13:15:19,457 - Eval - INFO - All metrics: {'accuracy': 0.7444996451383961, 'precision': 0.5108514190317195, 'recall': 0.8203753351206434, 'f1': 0.6296296296296297}\n"
     ]
    },
    {
     "name": "stdout",
     "output_type": "stream",
     "text": [
      "🏃 View run LogisticRegression at: http://localhost:5000/#/experiments/2/runs/e483770756ce49db9f7da721e8ccdcd9\n",
      "🧪 View experiment at: http://localhost:5000/#/experiments/2\n",
      "---GradientBoostingClassifier----\n"
     ]
    },
    {
     "name": "stderr",
     "output_type": "stream",
     "text": [
      "C:\\Users\\dusad\\Documents\\Projects\\agnei_consulting\\mlutils\\src\\mlutils\\automl\\train.py:62: ExperimentalWarning: OptunaSearchCV is experimental (supported from v0.17.0). The interface can change in the future.\n",
      "  searcher = OptunaSearchCV(pipeline, param_grid, cv=5, scoring=\"recall\", n_trials=50, n_jobs=-1)\n",
      "[I 2025-06-08 13:15:34,748] A new study created in memory with name: no-name-ccad7d8c-e15d-4407-bccc-0ea19eff8d20\n",
      "[I 2025-06-08 13:16:16,382] Trial 0 finished with value: 0.7694024526198439 and parameters: {'model__n_estimators': 111, 'model__learning_rate': 0.015504088275512027, 'model__max_depth': 3}. Best is trial 0 with value: 0.7694024526198439.\n",
      "[I 2025-06-08 13:16:32,711] Trial 10 finished with value: 0.5828807134894092 and parameters: {'model__n_estimators': 122, 'model__learning_rate': 0.12184851078903709, 'model__max_depth': 4}. Best is trial 0 with value: 0.7694024526198439.\n",
      "[I 2025-06-08 13:16:36,727] Trial 3 finished with value: 0.7199397993311036 and parameters: {'model__n_estimators': 132, 'model__learning_rate': 0.018739194009980333, 'model__max_depth': 4}. Best is trial 0 with value: 0.7694024526198439.\n",
      "[I 2025-06-08 13:16:37,750] Trial 9 finished with value: 0.6169855072463768 and parameters: {'model__n_estimators': 190, 'model__learning_rate': 0.08544271636705437, 'model__max_depth': 3}. Best is trial 0 with value: 0.7694024526198439.\n",
      "[I 2025-06-08 13:16:38,609] Trial 11 finished with value: 0.5507826086956522 and parameters: {'model__n_estimators': 140, 'model__learning_rate': 0.19628741501738392, 'model__max_depth': 4}. Best is trial 0 with value: 0.7694024526198439.\n",
      "[I 2025-06-08 13:16:46,185] Trial 6 finished with value: 0.5915696767001115 and parameters: {'model__n_estimators': 113, 'model__learning_rate': 0.08717513953420691, 'model__max_depth': 5}. Best is trial 0 with value: 0.7694024526198439.\n",
      "[I 2025-06-08 13:16:50,163] Trial 5 finished with value: 0.7272931995540691 and parameters: {'model__n_estimators': 172, 'model__learning_rate': 0.013280191572367291, 'model__max_depth': 4}. Best is trial 0 with value: 0.7694024526198439.\n",
      "[I 2025-06-08 13:16:55,955] Trial 8 finished with value: 0.6838305462653288 and parameters: {'model__n_estimators': 185, 'model__learning_rate': 0.02177958549984933, 'model__max_depth': 4}. Best is trial 0 with value: 0.7694024526198439.\n",
      "[I 2025-06-08 13:16:56,846] Trial 7 finished with value: 0.6630969899665552 and parameters: {'model__n_estimators': 130, 'model__learning_rate': 0.029017515494099318, 'model__max_depth': 5}. Best is trial 0 with value: 0.7694024526198439.\n",
      "[I 2025-06-08 13:17:00,344] Trial 1 finished with value: 0.7132530657748049 and parameters: {'model__n_estimators': 142, 'model__learning_rate': 0.014427526036184234, 'model__max_depth': 5}. Best is trial 0 with value: 0.7694024526198439.\n",
      "[I 2025-06-08 13:17:01,132] Trial 2 finished with value: 0.5802118171683388 and parameters: {'model__n_estimators': 141, 'model__learning_rate': 0.08904401728353457, 'model__max_depth': 5}. Best is trial 0 with value: 0.7694024526198439.\n",
      "[I 2025-06-08 13:17:16,086] Trial 17 finished with value: 0.7085596432552954 and parameters: {'model__n_estimators': 110, 'model__learning_rate': 0.04329504626479792, 'model__max_depth': 3}. Best is trial 0 with value: 0.7694024526198439.\n",
      "[I 2025-06-08 13:17:18,375] Trial 12 finished with value: 0.6303433667781494 and parameters: {'model__n_estimators': 166, 'model__learning_rate': 0.05178290955553764, 'model__max_depth': 4}. Best is trial 0 with value: 0.7694024526198439.\n",
      "[I 2025-06-08 13:17:24,695] Trial 19 finished with value: 0.6878327759197325 and parameters: {'model__n_estimators': 100, 'model__learning_rate': 0.05955178433155118, 'model__max_depth': 3}. Best is trial 0 with value: 0.7694024526198439.\n",
      "[I 2025-06-08 13:17:26,105] Trial 4 finished with value: 0.5668361204013379 and parameters: {'model__n_estimators': 189, 'model__learning_rate': 0.07144842489862725, 'model__max_depth': 5}. Best is trial 0 with value: 0.7694024526198439.\n",
      "[I 2025-06-08 13:17:27,507] Trial 18 finished with value: 0.7339710144927536 and parameters: {'model__n_estimators': 132, 'model__learning_rate': 0.021052679147159168, 'model__max_depth': 3}. Best is trial 0 with value: 0.7694024526198439.\n",
      "[I 2025-06-08 13:17:28,247] Trial 16 finished with value: 0.6270144927536232 and parameters: {'model__n_estimators': 188, 'model__learning_rate': 0.07513476631509956, 'model__max_depth': 3}. Best is trial 0 with value: 0.7694024526198439.\n",
      "[I 2025-06-08 13:17:28,583] Trial 20 finished with value: 0.724613154960981 and parameters: {'model__n_estimators': 107, 'model__learning_rate': 0.03245857904635224, 'model__max_depth': 3}. Best is trial 0 with value: 0.7694024526198439.\n",
      "[I 2025-06-08 13:17:28,890] Trial 21 finished with value: 0.7226064659977703 and parameters: {'model__n_estimators': 100, 'model__learning_rate': 0.03773559439860187, 'model__max_depth': 3}. Best is trial 0 with value: 0.7694024526198439.\n",
      "[I 2025-06-08 13:17:47,955] Trial 22 finished with value: 0.7687335562987737 and parameters: {'model__n_estimators': 167, 'model__learning_rate': 0.010362434104855833, 'model__max_depth': 3}. Best is trial 0 with value: 0.7694024526198439.\n",
      "[I 2025-06-08 13:17:50,001] Trial 15 finished with value: 0.5782073578595317 and parameters: {'model__n_estimators': 132, 'model__learning_rate': 0.08657875677718484, 'model__max_depth': 5}. Best is trial 0 with value: 0.7694024526198439.\n",
      "[I 2025-06-08 13:18:01,832] Trial 23 finished with value: 0.7700713489409141 and parameters: {'model__n_estimators': 164, 'model__learning_rate': 0.010273157688319245, 'model__max_depth': 3}. Best is trial 23 with value: 0.7700713489409141.\n",
      "[I 2025-06-08 13:18:04,252] Trial 24 finished with value: 0.7714091415830546 and parameters: {'model__n_estimators': 163, 'model__learning_rate': 0.010461694242525634, 'model__max_depth': 3}. Best is trial 24 with value: 0.7714091415830546.\n",
      "[I 2025-06-08 13:18:08,663] Trial 27 finished with value: 0.7018684503901895 and parameters: {'model__n_estimators': 157, 'model__learning_rate': 0.03128693713873837, 'model__max_depth': 3}. Best is trial 24 with value: 0.7714091415830546.\n",
      "[I 2025-06-08 13:18:10,092] Trial 14 finished with value: 0.5434314381270903 and parameters: {'model__n_estimators': 175, 'model__learning_rate': 0.17944936996751026, 'model__max_depth': 5}. Best is trial 24 with value: 0.7714091415830546.\n",
      "[I 2025-06-08 13:18:11,129] Trial 26 finished with value: 0.7660579710144928 and parameters: {'model__n_estimators': 163, 'model__learning_rate': 0.010877367566448307, 'model__max_depth': 3}. Best is trial 24 with value: 0.7714091415830546.\n",
      "[I 2025-06-08 13:18:12,763] Trial 25 finished with value: 0.7707380156075809 and parameters: {'model__n_estimators': 164, 'model__learning_rate': 0.010411936447200152, 'model__max_depth': 3}. Best is trial 24 with value: 0.7714091415830546.\n",
      "[I 2025-06-08 13:18:13,157] Trial 30 finished with value: 0.7740824972129319 and parameters: {'model__n_estimators': 159, 'model__learning_rate': 0.010148447624494452, 'model__max_depth': 3}. Best is trial 30 with value: 0.7740824972129319.\n",
      "[I 2025-06-08 13:18:13,894] Trial 29 finished with value: 0.7720758082497212 and parameters: {'model__n_estimators': 156, 'model__learning_rate': 0.010699984877942654, 'model__max_depth': 3}. Best is trial 30 with value: 0.7740824972129319.\n",
      "[I 2025-06-08 13:18:14,173] Trial 28 finished with value: 0.7694024526198439 and parameters: {'model__n_estimators': 163, 'model__learning_rate': 0.010593554313913334, 'model__max_depth': 3}. Best is trial 30 with value: 0.7740824972129319.\n",
      "[I 2025-06-08 13:18:14,576] Trial 13 finished with value: 0.5474381270903009 and parameters: {'model__n_estimators': 184, 'model__learning_rate': 0.13422364800857567, 'model__max_depth': 5}. Best is trial 30 with value: 0.7740824972129319.\n",
      "[I 2025-06-08 13:18:31,985] Trial 31 finished with value: 0.7740824972129319 and parameters: {'model__n_estimators': 161, 'model__learning_rate': 0.010120307674835018, 'model__max_depth': 3}. Best is trial 30 with value: 0.7740824972129319.\n",
      "[I 2025-06-08 13:18:35,255] Trial 32 finished with value: 0.7747513935340022 and parameters: {'model__n_estimators': 158, 'model__learning_rate': 0.010078152053263244, 'model__max_depth': 3}. Best is trial 32 with value: 0.7747513935340022.\n",
      "[I 2025-06-08 13:18:44,019] Trial 33 finished with value: 0.7754202898550725 and parameters: {'model__n_estimators': 159, 'model__learning_rate': 0.010129755475265526, 'model__max_depth': 3}. Best is trial 33 with value: 0.7754202898550725.\n",
      "[I 2025-06-08 13:18:45,289] Trial 34 finished with value: 0.7807670011148271 and parameters: {'model__n_estimators': 156, 'model__learning_rate': 0.010036336728518619, 'model__max_depth': 3}. Best is trial 34 with value: 0.7807670011148271.\n",
      "[I 2025-06-08 13:18:50,423] Trial 35 finished with value: 0.771406911928651 and parameters: {'model__n_estimators': 154, 'model__learning_rate': 0.010783558574915109, 'model__max_depth': 3}. Best is trial 34 with value: 0.7807670011148271.\n",
      "[I 2025-06-08 13:18:51,289] Trial 36 finished with value: 0.7640512820512819 and parameters: {'model__n_estimators': 156, 'model__learning_rate': 0.01135066148561246, 'model__max_depth': 3}. Best is trial 34 with value: 0.7807670011148271.\n",
      "[I 2025-06-08 13:18:51,463] Trial 37 finished with value: 0.7473377926421405 and parameters: {'model__n_estimators': 154, 'model__learning_rate': 0.01484834142428208, 'model__max_depth': 3}. Best is trial 34 with value: 0.7807670011148271.\n",
      "[I 2025-06-08 13:18:55,653] Trial 38 finished with value: 0.7774225195094762 and parameters: {'model__n_estimators': 153, 'model__learning_rate': 0.010078831634162464, 'model__max_depth': 3}. Best is trial 34 with value: 0.7807670011148271.\n",
      "[I 2025-06-08 13:18:55,825] Trial 42 finished with value: 0.7386510590858417 and parameters: {'model__n_estimators': 151, 'model__learning_rate': 0.01685661803545768, 'model__max_depth': 3}. Best is trial 34 with value: 0.7807670011148271.\n",
      "[I 2025-06-08 13:19:06,088] Trial 39 finished with value: 0.735984392419175 and parameters: {'model__n_estimators': 153, 'model__learning_rate': 0.012957938064471741, 'model__max_depth': 4}. Best is trial 34 with value: 0.7807670011148271.\n",
      "[I 2025-06-08 13:19:06,277] Trial 41 finished with value: 0.7199397993311036 and parameters: {'model__n_estimators': 152, 'model__learning_rate': 0.0169332451468459, 'model__max_depth': 4}. Best is trial 34 with value: 0.7807670011148271.\n",
      "[I 2025-06-08 13:19:08,751] Trial 40 finished with value: 0.7219464882943143 and parameters: {'model__n_estimators': 154, 'model__learning_rate': 0.01586996516797031, 'model__max_depth': 4}. Best is trial 34 with value: 0.7807670011148271.\n",
      "[I 2025-06-08 13:19:09,150] Trial 43 finished with value: 0.742664437012263 and parameters: {'model__n_estimators': 152, 'model__learning_rate': 0.015733516826009486, 'model__max_depth': 3}. Best is trial 34 with value: 0.7807670011148271.\n",
      "[I 2025-06-08 13:19:12,117] Trial 44 finished with value: 0.7500133779264214 and parameters: {'model__n_estimators': 153, 'model__learning_rate': 0.014283759976732022, 'model__max_depth': 3}. Best is trial 34 with value: 0.7807670011148271.\n",
      "[I 2025-06-08 13:19:14,077] Trial 45 finished with value: 0.7520200668896321 and parameters: {'model__n_estimators': 146, 'model__learning_rate': 0.014599847343666195, 'model__max_depth': 3}. Best is trial 34 with value: 0.7807670011148271.\n",
      "[I 2025-06-08 13:19:18,647] Trial 46 finished with value: 0.7346465997770345 and parameters: {'model__n_estimators': 147, 'model__learning_rate': 0.014569161828569313, 'model__max_depth': 4}. Best is trial 34 with value: 0.7807670011148271.\n",
      "[I 2025-06-08 13:19:19,885] Trial 47 finished with value: 0.7266265328874025 and parameters: {'model__n_estimators': 148, 'model__learning_rate': 0.01577799181431469, 'model__max_depth': 4}. Best is trial 34 with value: 0.7807670011148271.\n",
      "[I 2025-06-08 13:19:20,121] Trial 49 finished with value: 0.7206086956521738 and parameters: {'model__n_estimators': 146, 'model__learning_rate': 0.018056531839541107, 'model__max_depth': 4}. Best is trial 34 with value: 0.7807670011148271.\n",
      "[I 2025-06-08 13:19:22,663] Trial 48 finished with value: 0.717933110367893 and parameters: {'model__n_estimators': 176, 'model__learning_rate': 0.0154651417859544, 'model__max_depth': 4}. Best is trial 34 with value: 0.7807670011148271.\n",
      "2025/06/08 13:19:50 WARNING mlflow.models.model: Model logged without a signature and input example. Please set `input_example` parameter when logging the model to auto infer the model signature.\n",
      "2025-06-08 13:20:00,431 - Eval - INFO - Accuracy: {_accuracy}\n",
      "2025-06-08 13:20:00,439 - Eval - INFO - Precision: {_precision}\n",
      "2025-06-08 13:20:00,452 - Eval - INFO - Recall: {_recall}\n",
      "2025-06-08 13:20:00,466 - Eval - INFO - F1 Score: {_f1_score}\n",
      "2025-06-08 13:20:00,469 - Eval - INFO - All metrics: {'accuracy': 0.7338537970191625, 'precision': 0.4983388704318937, 'recall': 0.8042895442359249, 'f1': 0.6153846153846154}\n"
     ]
    },
    {
     "name": "stdout",
     "output_type": "stream",
     "text": [
      "🏃 View run GradientBoostingClassifier at: http://localhost:5000/#/experiments/2/runs/ff5853f0a0ae4b4ab15019652912316a\n",
      "🧪 View experiment at: http://localhost:5000/#/experiments/2\n"
     ]
    }
   ],
   "source": [
    "X, y = read_local_data(path = '../data/datasets/blastchar/telco-customer-churn/versions/1/WA_Fn-UseC_-Telco-Customer-Churn.csv',\n",
    "                       target_col = 'Churn')\n",
    "\n",
    "for model_name in HYPERPARAMS_DICT.keys():\n",
    "    model = HYPERPARAMS_DICT[model_name]['model']\n",
    "    param_grid = HYPERPARAMS_DICT[model_name]['param_grid']\n",
    "    \n",
    "    model_tune(X, y, model_name, model, param_grid, search_algo='bayesian', mlflow_expt_name='optuna-search-imbalanced')\n",
    "\n"
   ]
  },
  {
   "cell_type": "code",
   "execution_count": null,
   "id": "b3ed69c4",
   "metadata": {},
   "outputs": [
    {
     "name": "stderr",
     "output_type": "stream",
     "text": [
      "c:\\Users\\dusad\\miniconda3\\envs\\agnei\\lib\\site-packages\\tqdm\\auto.py:21: TqdmWarning: IProgress not found. Please update jupyter and ipywidgets. See https://ipywidgets.readthedocs.io/en/stable/user_install.html\n",
      "  from .autonotebook import tqdm as notebook_tqdm\n"
     ]
    }
   ],
   "source": [
    "from mlutils.utils.mlflow_utils import fetch_model\n",
    "\n",
    "# Replace with your registered model name\n",
    "model_name = \"test\"\n",
    "\n",
    "model = fetch_model(model_name)  \n",
    "model"
   ]
  },
  {
   "cell_type": "code",
   "execution_count": null,
   "id": "9be253b2",
   "metadata": {},
   "outputs": [
    {
     "name": "stdout",
     "output_type": "stream",
     "text": [
      "0.12803912255571967\n",
      "0.3273809523809524\n"
     ]
    }
   ],
   "source": [
    "import numpy as np\n",
    "\n",
    "y_true = np.array([3.0, -0.5, 2.0, 7.0])\n",
    "y_pred = np.array([2.5, 0.0, 2.0, 8.0])\n",
    "from sklearn.metrics import (roc_auc_score,\n",
    "                             mean_squared_log_error,\n",
    "                             mean_absolute_percentage_error)\n",
    "\n",
    "print(mean_squared_log_error(y_true, y_pred))\n",
    "print(mean_absolute_percentage_error(y_true, y_pred))\n"
   ]
  },
  {
   "cell_type": "code",
   "execution_count": null,
   "id": "67418092",
   "metadata": {},
   "outputs": [],
   "source": []
  }
 ],
 "metadata": {
  "kernelspec": {
   "display_name": "agnei",
   "language": "python",
   "name": "python3"
  },
  "language_info": {
   "codemirror_mode": {
    "name": "ipython",
    "version": 3
   },
   "file_extension": ".py",
   "mimetype": "text/x-python",
   "name": "python",
   "nbconvert_exporter": "python",
   "pygments_lexer": "ipython3",
   "version": "3.10.18"
  }
 },
 "nbformat": 4,
 "nbformat_minor": 5
}
